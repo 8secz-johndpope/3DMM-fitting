{
 "cells": [
  {
   "cell_type": "markdown",
   "metadata": {},
   "source": [
    "### 自动标注正脸特征点"
   ]
  },
  {
   "cell_type": "code",
   "execution_count": null,
   "metadata": {},
   "outputs": [],
   "source": [
    "from assist import marker\n",
    "\n",
    "marker.frontal_face_marker(r'data\\display\\00138fa010_931230.tif')\n",
    "marker.frontal_face_marker(r'data\\display\\00216fa010_940128.tif')"
   ]
  },
  {
   "cell_type": "markdown",
   "metadata": {},
   "source": [
    "### 拖拽修改特征点"
   ]
  },
  {
   "cell_type": "code",
   "execution_count": null,
   "metadata": {
    "collapsed": true
   },
   "outputs": [],
   "source": [
    "from assist import marker\n",
    "marker.mark_modifier(r'data\\display\\00216pr010_940128.tif')"
   ]
  },
  {
   "cell_type": "markdown",
   "metadata": {},
   "source": [
    "### 手动标注特征点"
   ]
  },
  {
   "cell_type": "code",
   "execution_count": null,
   "metadata": {
    "collapsed": true
   },
   "outputs": [],
   "source": [
    "marker.manual_marker(r'data\\display\\00138pr010_931230.tif')"
   ]
  },
  {
   "cell_type": "markdown",
   "metadata": {},
   "source": [
    "# 侧脸特征点自动标注见Menpo http://www.menpo.org/"
   ]
  },
  {
   "cell_type": "markdown",
   "metadata": {},
   "source": [
    "### 进行三维拟合"
   ]
  },
  {
   "cell_type": "code",
   "execution_count": null,
   "metadata": {
    "collapsed": true
   },
   "outputs": [],
   "source": [
    "import os\n",
    "import numpy as np\n",
    "import cv2\n",
    "import toml\n",
    "import fitting\n",
    "import LandmarkMapper\n",
    "import Landmark\n",
    "import RenderingParameters\n",
    "import render\n",
    "import Blendshape\n",
    "import EdgeTopology\n",
    "import utils\n",
    "import contour_correspondence\n",
    "import MorphableModel"
   ]
  },
  {
   "cell_type": "code",
   "execution_count": null,
   "metadata": {
    "collapsed": true
   },
   "outputs": [],
   "source": [
    "frontal_pic_name = '00138fa010_931230'\n",
    "profile_pic_name = '00138pr010_931230'\n",
    "frontal_img = cv2.imread(os.path.join(r'data\\display', frontal_pic_name + '.tif'))\n",
    "profile_img = cv2.imread(os.path.join(r'data\\display', profile_pic_name + '.tif'))\n",
    "width = np.shape(frontal_img)[1]\n",
    "height = np.shape(frontal_img)[0]\n",
    "\n",
    "s = 1000 / height if height >= width else 2000 / width\n",
    "scale_param = 900 / height if height >= width else 900 / width"
   ]
  },
  {
   "cell_type": "code",
   "execution_count": null,
   "metadata": {
    "collapsed": true
   },
   "outputs": [],
   "source": [
    "py_model = MorphableModel.load_model(r\"py_share\\py_sfm_shape_29587.bin\")\n",
    "py_blendshapes = Blendshape.load_blendshapes(r\"py_share\\py_expression_blendshapes_29587.bin\")\n",
    "py_landmark_mapper = LandmarkMapper.LandmarkMapper(r'py_share\\ibug_to_sfm.txt')\n",
    "py_edge_topology = EdgeTopology.load_edge_topology(r'py_share\\py_sfm_29587_edge_topology.json')\n",
    "py_contour_landmarks = contour_correspondence.ContourLandmarks()\n",
    "py_contour_landmarks.load(r'py_share\\ibug_to_sfm.txt')\n",
    "py_model_contour = contour_correspondence.ModelContour()\n",
    "py_model_contour.load(r'py_share\\sfm_model_contours.json')\n",
    "profile_landmark_mapper = LandmarkMapper.ProfileLandmarkMapper(r'py_share\\new_profile_to_sfm.txt')\n",
    "old_to_new_map = toml.load(r'py_share\\old_to_new_profile.txt')\n",
    "\n",
    "frontal_landmarks = []\n",
    "landmark_ids = list(map(str, range(1, 69)))  # generates the numbers 1 to 68, as strings\n",
    "landmarks = utils.read_pts(os.path.join(r'data\\display', frontal_pic_name + '.pts'))\n",
    "for i in range(68):\n",
    "    frontal_landmarks.append(Landmark.Landmark(landmark_ids[i], [landmarks[i][0] * s, landmarks[i][1] * s]))\n",
    "\n",
    "profile_landmarks = []\n",
    "landmarks = utils.read_pts(os.path.join(r'data\\display', profile_pic_name + '.pts'))\n",
    "for x in profile_landmark_mapper.right_mapper.keys():\n",
    "    coor = landmarks[old_to_new_map[x] - 1]\n",
    "    profile_landmarks.append(Landmark.Landmark(x, [coor[0] * s, coor[1] * s]))"
   ]
  },
  {
   "cell_type": "code",
   "execution_count": null,
   "metadata": {},
   "outputs": [],
   "source": [
    "py_mesh, frontal_rendering_params, profile_rendering_params = fitting.fit_front_and_profile(\n",
    "    py_model, py_blendshapes, frontal_landmarks, py_landmark_mapper, profile_landmarks, profile_landmark_mapper,\n",
    "    round(width * s), round(height * s), py_edge_topology, py_contour_landmarks, py_model_contour, lambda_p=20,\n",
    "    num_iterations=10)"
   ]
  },
  {
   "cell_type": "code",
   "execution_count": null,
   "metadata": {
    "collapsed": true
   },
   "outputs": [],
   "source": [
    "profile_img = cv2.resize(profile_img, (round(width * scale_param), round(height * scale_param)),\n",
    "                         interpolation=cv2.INTER_CUBIC)\n",
    "render.draw_wireframe_with_depth(\n",
    "    profile_img, py_mesh, profile_rendering_params.get_modelview(), profile_rendering_params.get_projection(),\n",
    "    RenderingParameters.get_opencv_viewport(width * s, height * s), profile_landmark_mapper, scale_param / s)\n",
    "\n",
    "frontal_img = cv2.resize(frontal_img, (round(width * scale_param), round(height * scale_param)),\n",
    "                         interpolation=cv2.INTER_CUBIC)\n",
    "render.draw_wireframe_with_depth(\n",
    "    frontal_img, py_mesh, frontal_rendering_params.get_modelview(), frontal_rendering_params.get_projection(),\n",
    "    RenderingParameters.get_opencv_viewport(width * s, height * s), py_landmark_mapper, scale_param / s)\n",
    "\n",
    "for lm in frontal_landmarks:\n",
    "    cv2.rectangle(\n",
    "        frontal_img, (int(lm.coordinates[0] * scale_param / s) - 2, int(lm.coordinates[1] * scale_param / s) - 2),\n",
    "        (int(lm.coordinates[0] * scale_param / s) + 2, int(lm.coordinates[1] * scale_param / s) + 2), (255, 0, 0))\n",
    "\n",
    "for lm in profile_landmarks:\n",
    "    cv2.rectangle(\n",
    "        profile_img, (int(lm.coordinates[0] * scale_param / s) - 2, int(lm.coordinates[1] * scale_param / s) - 2),\n",
    "        (int(lm.coordinates[0] * scale_param / s) + 2, int(lm.coordinates[1] * scale_param / s) + 2), (255, 0, 0))"
   ]
  },
  {
   "cell_type": "code",
   "execution_count": null,
   "metadata": {
    "collapsed": true
   },
   "outputs": [],
   "source": [
    "img = np.hstack([frontal_img, profile_img])\n",
    "cv2.imwrite(frontal_pic_name + '-outcome.jpg', img)\n",
    "\n",
    "cv2.imshow(\"Image\", img)\n",
    "cv2.waitKey(0)\n",
    "cv2.destroyAllWindows()"
   ]
  }
 ],
 "metadata": {
  "kernelspec": {
   "display_name": "Python 3",
   "language": "python",
   "name": "python3"
  },
  "language_info": {
   "codemirror_mode": {
    "name": "ipython",
    "version": 3
   },
   "file_extension": ".py",
   "mimetype": "text/x-python",
   "name": "python",
   "nbconvert_exporter": "python",
   "pygments_lexer": "ipython3",
   "version": "3.6.1"
  }
 },
 "nbformat": 4,
 "nbformat_minor": 2
}
